{
  "nbformat": 4,
  "nbformat_minor": 0,
  "metadata": {
    "colab": {
      "provenance": []
    },
    "kernelspec": {
      "display_name": "Python 3",
      "name": "python3"
    }
  },
  "cells": [
    {
      "cell_type": "code",
      "metadata": {
        "id": "NP6VzJs_fLTR"
      },
      "source": [
        "#@markdown <h3>⬅️ Install Lightnovel crawler</h3>\n",
        "!pip install pycryptodome\n",
        "!pip install -U lightnovel-crawler==2.29.4"
      ],
      "execution_count": null,
      "outputs": []
    },
    {
      "cell_type": "code",
      "metadata": {
        "id": "ALyfoYSHfRUX",
        "cellView": "form"
      },
      "source": [
        "#@markdown <h3>⬅️ Download Novels</h3>\n",
        "import glob\n",
        "import random\n",
        "def dl():\n",
        "   l = input(\"Input Link & Press Enter: \")\n",
        "   print(l)\n",
        "\n",
        "   r = input(\"Chapter Numbers Range: \")\n",
        "   print(r)\n",
        "\n",
        "   Name = str(random.randint(0,220000000000))\n",
        "\n",
        "   !lncrawl -s $l --range $r --format epub -o \"$Name\" --suppress\n",
        " \n",
        "   zipfile=Name+\".zip\"\n",
        "   Name=\"/content/\" +Name+\"/epub/\"\n",
        "   File=\"\"  \n",
        "   File=File.join(glob.glob(Name+\"*.epub\"))   \n",
        "   zipfile=File\n",
        "\n",
        "\n",
        "   A = \"［1️⃣］.The ePUB File might be uploaded to anonfiles.com ⁉️:⤵️↘️: \"\n",
        "   print(A)\n",
        "   A1= !curl -F \"file=@$zipfile\" https://api.anonfiles.com/upload\n",
        "   !echo $A1\n",
        "   A2= '# <br />'\n",
        "   !echo $A2\n",
        "   !echo $A2\n",
        "\n",
        "\n",
        "   B = \"［2️⃣］.[DOWN!!!DISABLED]The ePUB File might be uploaded to temp.sh ⁉️:⤵️↘️: \"\n",
        "   print(B)\n",
        "#   !curl -T \"$zipfile\" temp.sh\n",
        "   B2= '# <br />'\n",
        "   !echo $B2\n",
        "   !echo $B2\n",
        "   !echo $B2\n",
        "\n",
        "\n",
        "   C = \"［3️⃣］.The ePUB File might be uploaded to transfer.sh ⁉️:⤵️↘️: \"\n",
        "   print(C)\n",
        "   C1= !curl --upload-file \"$zipfile\" https://transfer.sh\n",
        "   !echo $C1\n",
        "   C2= '# <hr />'\n",
        "   !echo $C2\n",
        "\n",
        "\n",
        "dl()"
      ],
      "execution_count": null,
      "outputs": []
    }
  ]
}